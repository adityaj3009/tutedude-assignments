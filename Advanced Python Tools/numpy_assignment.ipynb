{
 "cells": [
  {
   "cell_type": "code",
   "execution_count": 5,
   "id": "7db7aa08-0039-4aa2-94ef-8d2ef1a92b41",
   "metadata": {},
   "outputs": [
    {
     "name": "stdout",
     "output_type": "stream",
     "text": [
      "sum is: 210\n",
      "mean is: 10.5\n",
      "median is: 10.5\n",
      "S.D is 5.766\n",
      "Indices of elements greater than 10: [10 11 12 13 14 15 16 17 18 19]\n"
     ]
    }
   ],
   "source": [
    "import numpy as np\n",
    "\n",
    "#1. Create a 1D NumPy array with integers from 1 to 20. Perform the following operations:  \n",
    "# a. Calculate the sum, mean, median, and standard deviation of the elements in the array.  \n",
    "# b. Find the indices of elements greater than 10 in the array.\n",
    "\n",
    "# arr = np.array([1, 2, 3, 4, 5,7,8,9,10,11,12,13,14,15,16,17,18,19,20])\n",
    "arr = np.arange(1,21) # arange - it acts like range function of for loop \n",
    "print(\"sum is:\",arr.sum())\n",
    "print(\"mean is:\",arr.mean())\n",
    "print(\"median is:\",np.median(arr))\n",
    "print(f\"S.D is {np.std(arr):.3f}\")  # .3f for float value upto 3 decimal\n",
    "\n",
    "indices = np.where(arr > 10)[0] # it shows all number after 10, where method is used for that\n",
    "print(\"Indices of elements greater than 10:\", indices)"
   ]
  },
  {
   "cell_type": "code",
   "execution_count": 1,
   "id": "a9c0bf1b-2e9a-4a12-a3e2-bcb038fb38eb",
   "metadata": {
    "collapsed": true,
    "jupyter": {
     "outputs_hidden": true
    },
    "scrolled": true
   },
   "outputs": [
    {
     "name": "stdout",
     "output_type": "stream",
     "text": [
      "original array:\n",
      " [[ 1  2  3  4]\n",
      " [ 5  6  7  8]\n",
      " [ 9 10 11 12]\n",
      " [13 14 15 16]]\n",
      "transpose array:\n",
      " [[ 1  5  9 13]\n",
      " [ 2  6 10 14]\n",
      " [ 3  7 11 15]\n",
      " [ 4  8 12 16]]\n",
      "row wise sum: [10 26 42 58]\n",
      "column wise sum:  [28 32 36 40]\n"
     ]
    }
   ],
   "source": [
    "import numpy as np\n",
    "\n",
    "#2. Create a 2D NumPy array of shape 4 X 4 with numbers ranging from 1 to 16.  \n",
    "# a. Print the array.  \n",
    "# b. Find the transpose of the array.  \n",
    "# c. Calculate the row-wise and column-wise sums of the array. \n",
    "\n",
    "arr = np.arange(1,17).reshape(4,4)\n",
    "print(\"original array:\\n\",arr)\n",
    "\n",
    "transpose = arr.T\n",
    "print(\"transpose array:\\n\", transpose)\n",
    "\n",
    "row = arr.sum(axis=1)\n",
    "col = arr.sum(axis=0)\n",
    "\n",
    "print(\"row wise sum:\", row)\n",
    "print(\"column wise sum: \", col)"
   ]
  },
  {
   "cell_type": "code",
   "execution_count": 3,
   "id": "5e05f201-f9c8-4897-96b5-4328bba67c11",
   "metadata": {
    "collapsed": true,
    "jupyter": {
     "outputs_hidden": true
    }
   },
   "outputs": [
    {
     "name": "stdout",
     "output_type": "stream",
     "text": [
      "[[ 9  1 18]\n",
      " [12  4  4]\n",
      " [ 7  8  9]] \n",
      "--------\n",
      " [[ 4  7 14]\n",
      " [ 9 15 20]\n",
      " [ 7  4  1]]\n",
      "addition:\n",
      " [[13  8 32]\n",
      " [21 19 24]\n",
      " [14 12 10]]\n",
      "subtraction:\n",
      " [[  5  -6   4]\n",
      " [  3 -11 -16]\n",
      " [  0   4   8]]\n",
      "multiplication:\n",
      "  [[ 36   7 252]\n",
      " [108  60  80]\n",
      " [ 49  32   9]]\n",
      "dot product: \n",
      " [[171 150 164]\n",
      " [112 160 252]\n",
      " [163 205 267]]\n"
     ]
    }
   ],
   "source": [
    "import numpy as np\n",
    "\n",
    "# 3. Create two 3 X 3 arrays filled with random integers between 1 and 20.  \n",
    "# a. Perform element-wise addition, subtraction, and multiplication.  \n",
    "# b. Compute the dot product of the two arrays.\n",
    "\n",
    "arr1 = np.random.randint(1,21, size=(3,3)) # this will print random number betweeen 1 to 20 and then it will arrange it in size of 3*3 array\n",
    "arr2 = np.random.randint(1,21, size=(3,3))\n",
    "\n",
    "print(arr1,\"\\n--------\\n\", arr2)\n",
    "\n",
    "print(\"addition:\\n\", arr1+arr2)\n",
    "print(\"subtraction:\\n\", arr1-arr2)\n",
    "print(\"multiplication:\\n \", arr1*arr2)\n",
    "print(\"dot product: \\n\", np.dot(arr1,arr2))\n"
   ]
  },
  {
   "cell_type": "code",
   "execution_count": 4,
   "id": "548ea6a7-8c77-4dab-b4b0-58aae2b9814a",
   "metadata": {
    "collapsed": true,
    "jupyter": {
     "outputs_hidden": true
    }
   },
   "outputs": [
    {
     "name": "stdout",
     "output_type": "stream",
     "text": [
      "[[ 1  2  3  4]\n",
      " [ 5  6  7  8]\n",
      " [ 9 10 11 12]]\n",
      "sliced array:\n",
      " [[3 4]\n",
      " [7 8]]\n"
     ]
    }
   ],
   "source": [
    "import numpy as np\n",
    "\n",
    "# 4. Reshape a 1D array of size 12 into a 3 X 4 2D array and \n",
    "# slice the first two rows and last two columns.\n",
    "\n",
    "arr = np.arange(1,13).reshape(3,4)\n",
    "print(arr)\n",
    "\n",
    "sliced = arr[0:2, -2:]\n",
    "print(\"sliced array:\\n\", sliced)"
   ]
  },
  {
   "cell_type": "code",
   "execution_count": null,
   "id": "146ae914-903c-4c3f-a614-3898f297c4b9",
   "metadata": {},
   "outputs": [],
   "source": []
  }
 ],
 "metadata": {
  "kernelspec": {
   "display_name": "Python 3 (ipykernel)",
   "language": "python",
   "name": "python3"
  },
  "language_info": {
   "codemirror_mode": {
    "name": "ipython",
    "version": 3
   },
   "file_extension": ".py",
   "mimetype": "text/x-python",
   "name": "python",
   "nbconvert_exporter": "python",
   "pygments_lexer": "ipython3",
   "version": "3.11.9"
  }
 },
 "nbformat": 4,
 "nbformat_minor": 5
}
