{
 "cells": [
  {
   "cell_type": "code",
   "execution_count": 1,
   "id": "863952b0-da6f-4c20-ad92-e516e148242c",
   "metadata": {},
   "outputs": [
    {
     "name": "stdout",
     "output_type": "stream",
     "text": [
      "      Name  Age Department  Salary\n",
      "0    Alice   24         HR   45000\n",
      "1      Bob   27    Finance   54000\n",
      "2  Charlie   22         IT   50000\n",
      "3    Diana   32  Marketing   62000\n",
      "4      Eve   29         HR   47000\n",
      "-------------------------------\n",
      "First five rows:\n",
      "      Name  Age Department  Salary\n",
      "0    Alice   24         HR   45000\n",
      "1      Bob   27    Finance   54000\n",
      "2  Charlie   22         IT   50000\n",
      "3    Diana   32  Marketing   62000\n",
      "4      Eve   29         HR   47000\n",
      "summary: \n",
      "          Age     Salary\n",
      "count   5.000      5.000\n",
      "mean   26.800  51600.000\n",
      "std     3.962   6730.527\n",
      "min    22.000  45000.000\n",
      "25%    24.000  47000.000\n",
      "50%    27.000  50000.000\n",
      "75%    29.000  54000.000\n",
      "max    32.000  62000.000\n",
      "avg salary of hr department employees: 46000.0\n"
     ]
    }
   ],
   "source": [
    "import pandas as pd\n",
    "import numpy as np\n",
    "\n",
    "# a. Print the first five rows of the DataFrame.  \n",
    "# b. Get the summary statistics of the 'Age' and 'Salary' columns.  \n",
    "# c. Calculate the average salary of employees in the 'HR' department.  \n",
    "\n",
    "data = {\n",
    "      'Name': ['Alice', 'Bob', 'Charlie', 'Diana', 'Eve'],\n",
    "      'Age': [24, 27, 22, 32, 29],\n",
    "      'Department': ['HR', 'Finance', 'IT', 'Marketing', 'HR'],\n",
    "      'Salary': [45000, 54000, 50000, 62000, 47000]\n",
    "  }\n",
    "\n",
    "data_pd = pd.DataFrame(data)\n",
    "print(data_pd)\n",
    "\n",
    "print(\"-------------------------------\")\n",
    "\n",
    "print(\"First five rows:\")\n",
    "print(data_pd.head())\n",
    "\n",
    "print(\"summary: \")\n",
    "print(data_pd[['Age','Salary']].describe().round(3))\n",
    "\n",
    "a = data_pd[data_pd['Department']=='HR']['Salary'].mean() # this mean() method will calculate the average \n",
    "\n",
    "print(\"avg salary of hr department employees:\", a)\n"
   ]
  },
  {
   "cell_type": "code",
   "execution_count": 5,
   "id": "abae1ef5-130b-449e-9ba7-786e403e7bef",
   "metadata": {},
   "outputs": [
    {
     "name": "stdout",
     "output_type": "stream",
     "text": [
      "      Name  Age Department  Salary  Bonus\n",
      "0    Alice   24         HR   45000   4500\n",
      "1      Bob   27    Finance   54000   5400\n",
      "2  Charlie   22         IT   50000   5000\n",
      "3    Diana   32  Marketing   62000   6200\n",
      "4      Eve   29         HR   47000   4700\n"
     ]
    }
   ],
   "source": [
    "# Add a new column, 'Bonus', which is 10% of the salary. \n",
    "\n",
    "data_pd['Bonus'] = (data_pd['Salary'] * 0.10).astype(int)\n",
    "print(data_pd)"
   ]
  },
  {
   "cell_type": "code",
   "execution_count": 7,
   "id": "f75b7ea6-205d-4e66-8ff1-31257d5b7427",
   "metadata": {},
   "outputs": [
    {
     "data": {
      "text/html": [
       "<div>\n",
       "<style scoped>\n",
       "    .dataframe tbody tr th:only-of-type {\n",
       "        vertical-align: middle;\n",
       "    }\n",
       "\n",
       "    .dataframe tbody tr th {\n",
       "        vertical-align: top;\n",
       "    }\n",
       "\n",
       "    .dataframe thead th {\n",
       "        text-align: right;\n",
       "    }\n",
       "</style>\n",
       "<table border=\"1\" class=\"dataframe\">\n",
       "  <thead>\n",
       "    <tr style=\"text-align: right;\">\n",
       "      <th></th>\n",
       "      <th>Name</th>\n",
       "      <th>Age</th>\n",
       "      <th>Department</th>\n",
       "      <th>Salary</th>\n",
       "      <th>Bonus</th>\n",
       "    </tr>\n",
       "  </thead>\n",
       "  <tbody>\n",
       "    <tr>\n",
       "      <th>1</th>\n",
       "      <td>Bob</td>\n",
       "      <td>27</td>\n",
       "      <td>Finance</td>\n",
       "      <td>54000</td>\n",
       "      <td>5400</td>\n",
       "    </tr>\n",
       "    <tr>\n",
       "      <th>4</th>\n",
       "      <td>Eve</td>\n",
       "      <td>29</td>\n",
       "      <td>HR</td>\n",
       "      <td>47000</td>\n",
       "      <td>4700</td>\n",
       "    </tr>\n",
       "  </tbody>\n",
       "</table>\n",
       "</div>"
      ],
      "text/plain": [
       "  Name  Age Department  Salary  Bonus\n",
       "1  Bob   27    Finance   54000   5400\n",
       "4  Eve   29         HR   47000   4700"
      ]
     },
     "execution_count": 7,
     "metadata": {},
     "output_type": "execute_result"
    }
   ],
   "source": [
    "#  Filter the DataFrame to show employees aged between 25 and 30.\n",
    "\n",
    "data_pd[data_pd['Age'].between(25,30)]"
   ]
  },
  {
   "cell_type": "code",
   "execution_count": 12,
   "id": "68703909-9caa-4a33-897a-37409baa6c8a",
   "metadata": {},
   "outputs": [
    {
     "data": {
      "text/plain": [
       "Department\n",
       "Finance      54000\n",
       "HR           46000\n",
       "IT           50000\n",
       "Marketing    62000\n",
       "Name: Salary, dtype: int64"
      ]
     },
     "execution_count": 12,
     "metadata": {},
     "output_type": "execute_result"
    }
   ],
   "source": [
    "# 4. Group the data by 'Department' and calculate the average salary for each department. \n",
    "avg = data_pd.groupby('Department')['Salary'].mean().astype(int)\n",
    "avg"
   ]
  },
  {
   "cell_type": "code",
   "execution_count": 16,
   "id": "5c2192f8-dfa3-4aa1-a86f-8eaaa858b674",
   "metadata": {},
   "outputs": [
    {
     "data": {
      "text/html": [
       "<div>\n",
       "<style scoped>\n",
       "    .dataframe tbody tr th:only-of-type {\n",
       "        vertical-align: middle;\n",
       "    }\n",
       "\n",
       "    .dataframe tbody tr th {\n",
       "        vertical-align: top;\n",
       "    }\n",
       "\n",
       "    .dataframe thead th {\n",
       "        text-align: right;\n",
       "    }\n",
       "</style>\n",
       "<table border=\"1\" class=\"dataframe\">\n",
       "  <thead>\n",
       "    <tr style=\"text-align: right;\">\n",
       "      <th></th>\n",
       "      <th>Name</th>\n",
       "      <th>Age</th>\n",
       "      <th>Department</th>\n",
       "      <th>Salary</th>\n",
       "      <th>Bonus</th>\n",
       "    </tr>\n",
       "  </thead>\n",
       "  <tbody>\n",
       "    <tr>\n",
       "      <th>0</th>\n",
       "      <td>Alice</td>\n",
       "      <td>24</td>\n",
       "      <td>HR</td>\n",
       "      <td>45000</td>\n",
       "      <td>4500</td>\n",
       "    </tr>\n",
       "    <tr>\n",
       "      <th>4</th>\n",
       "      <td>Eve</td>\n",
       "      <td>29</td>\n",
       "      <td>HR</td>\n",
       "      <td>47000</td>\n",
       "      <td>4700</td>\n",
       "    </tr>\n",
       "    <tr>\n",
       "      <th>2</th>\n",
       "      <td>Charlie</td>\n",
       "      <td>22</td>\n",
       "      <td>IT</td>\n",
       "      <td>50000</td>\n",
       "      <td>5000</td>\n",
       "    </tr>\n",
       "    <tr>\n",
       "      <th>1</th>\n",
       "      <td>Bob</td>\n",
       "      <td>27</td>\n",
       "      <td>Finance</td>\n",
       "      <td>54000</td>\n",
       "      <td>5400</td>\n",
       "    </tr>\n",
       "    <tr>\n",
       "      <th>3</th>\n",
       "      <td>Diana</td>\n",
       "      <td>32</td>\n",
       "      <td>Marketing</td>\n",
       "      <td>62000</td>\n",
       "      <td>6200</td>\n",
       "    </tr>\n",
       "  </tbody>\n",
       "</table>\n",
       "</div>"
      ],
      "text/plain": [
       "      Name  Age Department  Salary  Bonus\n",
       "0    Alice   24         HR   45000   4500\n",
       "4      Eve   29         HR   47000   4700\n",
       "2  Charlie   22         IT   50000   5000\n",
       "1      Bob   27    Finance   54000   5400\n",
       "3    Diana   32  Marketing   62000   6200"
      ]
     },
     "execution_count": 16,
     "metadata": {},
     "output_type": "execute_result"
    }
   ],
   "source": [
    "# 5. Sort the DataFrame by 'Salary' in ascending order and save the result to a new CSV file\n",
    "\n",
    "sort = data_pd.sort_values('Salary', ascending=True)\n",
    "sort.to_csv('sorted_data_pd.csv')  # this will create a csv file and save it in save folder \n",
    "sort"
   ]
  },
  {
   "cell_type": "code",
   "execution_count": null,
   "id": "bc43ca9e-e3c1-4e3a-9659-351105c7c43f",
   "metadata": {},
   "outputs": [],
   "source": []
  }
 ],
 "metadata": {
  "kernelspec": {
   "display_name": "Python 3 (ipykernel)",
   "language": "python",
   "name": "python3"
  },
  "language_info": {
   "codemirror_mode": {
    "name": "ipython",
    "version": 3
   },
   "file_extension": ".py",
   "mimetype": "text/x-python",
   "name": "python",
   "nbconvert_exporter": "python",
   "pygments_lexer": "ipython3",
   "version": "3.11.9"
  }
 },
 "nbformat": 4,
 "nbformat_minor": 5
}
