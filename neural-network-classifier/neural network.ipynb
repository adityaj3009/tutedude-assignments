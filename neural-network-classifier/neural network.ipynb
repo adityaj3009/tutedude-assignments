{
 "cells": [
  {
   "cell_type": "code",
   "execution_count": 3,
   "id": "374428bd-97e4-4105-b227-7693e7a78968",
   "metadata": {},
   "outputs": [
    {
     "data": {
      "image/png": "[encoded data removed]",
      "text/plain": [
       "<Figure size 640x480 with 1 Axes>"
      ]
     },
     "metadata": {},
     "output_type": "display_data"
    },
    {
     "name": "stdout",
     "output_type": "stream",
     "text": [
      "------------------------------------\n",
      "[array([[0, 0, 1, 1, 0, 0, 0, 1, 0, 0, 1, 0, 1, 1, 1, 1, 1, 1, 1, 0, 0, 0,\n",
      "        0, 1, 1, 0, 0, 0, 0, 1]]), array([[0, 1, 1, 1, 1, 0, 0, 1, 0, 0, 1, 0, 0, 1, 1, 1, 1, 0, 0, 1, 0, 0,\n",
      "        1, 0, 0, 1, 1, 1, 1, 0]]), array([[0, 1, 1, 1, 1, 0, 0, 1, 0, 0, 0, 0, 0, 1, 0, 0, 0, 0, 0, 1, 0, 0,\n",
      "        0, 0, 0, 1, 1, 1, 1, 0]])] \n",
      "\n",
      " [[1 0 0]\n",
      " [0 1 0]\n",
      " [0 0 1]]\n"
     ]
    }
   ],
   "source": [
    "# data set\n",
    "\n",
    "# A\n",
    "a = [0, 0, 1, 1, 0, 0,\n",
    "     0, 1, 0, 0, 1, 0,\n",
    "     1, 1, 1, 1, 1, 1,\n",
    "     1, 0, 0, 0, 0, 1,\n",
    "     1, 0, 0, 0, 0, 1]\n",
    "\n",
    "# B\n",
    "b = [0, 1, 1, 1, 1, 0,\n",
    "     0, 1, 0, 0, 1, 0,\n",
    "     0, 1, 1, 1, 1, 0,\n",
    "     0, 1, 0, 0, 1, 0,\n",
    "     0, 1, 1, 1, 1, 0]\n",
    "\n",
    "# C\n",
    "c = [0, 1, 1, 1, 1, 0,\n",
    "     0, 1, 0, 0, 0, 0,\n",
    "     0, 1, 0, 0, 0, 0,\n",
    "     0, 1, 0, 0, 0, 0,\n",
    "     0, 1, 1, 1, 1, 0]\n",
    "\n",
    "# create label\n",
    "y = [[1,0,0],\n",
    "     [0,1,0],\n",
    "     [0,0,1]]\n",
    "\n",
    "import numpy as np\n",
    "import matplotlib.pyplot as plt\n",
    "\n",
    "#visualise data\n",
    "plt.imshow(np.array(a).reshape(5,6))\n",
    "plt.show()\n",
    "\n",
    "print(\"------------------------------------\")\n",
    "\n",
    "# convert data and label into numpy array\n",
    "x = [np.array(a).reshape(1,30), np.array(b).reshape(1,30), np.array(c).reshape(1,30)]\n",
    "y = np.array(y)\n",
    "\n",
    "print(x, \"\\n\\n\", y)"
   ]
  },
  {
   "cell_type": "code",
   "execution_count": 4,
   "id": "d1af12ca-863e-4f31-a754-02ed2ffda4aa",
   "metadata": {},
   "outputs": [],
   "source": [
    "# activation function\n",
    "def sigmoid(x):\n",
    "    return (1/(1+np.exp(-x)))"
   ]
  },
  {
   "cell_type": "code",
   "execution_count": 5,
   "id": "0eecae97-2daa-4ab3-90f3-673165e19497",
   "metadata": {},
   "outputs": [],
   "source": [
    "# creating feed forward NN\n",
    "def f_forward(x,w1, w2):\n",
    "    #hidden layer\n",
    "    z1 = x.dot(w1)\n",
    "    a1 = sigmoid(z1)\n",
    "\n",
    "    #output layer\n",
    "    z2 = a1.dot(w2)\n",
    "    a2 = sigmoid(z2)\n",
    "    return(a2)"
   ]
  },
  {
   "cell_type": "code",
   "execution_count": 6,
   "id": "08adced3-a512-4dc7-a4ee-bc87e8511492",
   "metadata": {},
   "outputs": [],
   "source": [
    "# initialize the weights\n",
    "def generate_wt(x,y):\n",
    "    l = []\n",
    "    for i in range(x*y):\n",
    "        l.append(np.random.randn())\n",
    "    return(np.array(l).reshape(x,y))\n",
    "\n",
    "def loss(out, y):\n",
    "    s = (np.square(out-y))\n",
    "    s = np.sum(s)/len(y)\n",
    "    return(s)"
   ]
  },
  {
   "cell_type": "code",
   "execution_count": 7,
   "id": "921756db-c2e9-425d-bbb1-e76daa8ecd9d",
   "metadata": {},
   "outputs": [],
   "source": [
    "def back_prop(x,y,w1,w2,aplha):\n",
    "    #hidden\n",
    "    z1 = x.dot(w1)\n",
    "    a1 = sigmoid(z1)\n",
    "\n",
    "    # output layer\n",
    "    z2 = a1.dot(w2)\n",
    "    a2 = sigmoid(z2)\n",
    "\n",
    "    d2 = (a2-y)\n",
    "    d1 = np.multiply((w2.dot(d2.T)).T, np.multiply(a1, 1 - a1))  # ✅ fixed\n",
    "\n",
    "    #gradient\n",
    "    w1_adj = x.transpose().dot(d1)\n",
    "    w2_adj = a1.transpose().dot(d2)\n",
    "\n",
    "    w1 = w1 - (aplha*(w1_adj))\n",
    "    w2 = w2 - (aplha*(w2_adj))\n",
    "\n",
    "    return(w1,w2)"
   ]
  },
  {
   "cell_type": "code",
   "execution_count": 8,
   "id": "dc68cbe1-5e2c-48ae-9111-a49378a7de60",
   "metadata": {},
   "outputs": [],
   "source": [
    "def train(x,y,w1,w2, alpha=0.01, epoch =10):\n",
    "    acc = []\n",
    "    loss_list = []\n",
    "    for i in range(epoch):\n",
    "        l = []\n",
    "        for j in range(len(x)):\n",
    "            out = f_forward(x[j], w1, w2)  # ✅ fixed\n",
    "            l.append((loss(out, y[j])))\n",
    "            w1,w2 = back_prop(x[j], y[j], w1,w2, alpha)\n",
    "        print(\"Epochs:\", j+1, \"acc:\", (1-(sum(l)/len(x)))*100)\n",
    "        acc.append((1-sum(l)/len(x))*100)\n",
    "        loss_list.append(sum(l)/len(x))\n",
    "    return(acc,loss_list,w1,w2)"
   ]
  },
  {
   "cell_type": "code",
   "execution_count": 9,
   "id": "03dfd9fb-fd4b-472c-8e03-688f343422d3",
   "metadata": {},
   "outputs": [],
   "source": [
    "def predict(x,w1,w2):\n",
    "    out = f_forward(x,w1,w2)\n",
    "    maxm =0\n",
    "    k=0\n",
    "    for i in range(len(out[0])):\n",
    "        if(maxm<out[0][i]):\n",
    "            maxm = out[0][i]\n",
    "            k = i\n",
    "    if(k == 0):\n",
    "        print(\"image is of letter A\")\n",
    "    elif (k==1):\n",
    "        print(\"image is of letter B\")\n",
    "    else:\n",
    "        print(\"image is of letter C\")\n",
    "    plt.imshow(x.reshape(5,6))\n",
    "    plt.show()"
   ]
  },
  {
   "cell_type": "code",
   "execution_count": 10,
   "id": "b227f808-ad59-4a5b-b3b5-7fbb1d6aa259",
   "metadata": {},
   "outputs": [
    {
     "name": "stdout",
     "output_type": "stream",
     "text": [
      "[[-0.5203868   1.18981675 -0.57616505  0.7348825   0.71220757]\n",
      " [ 1.37821749 -0.77416626 -0.81312469  0.17406912 -1.19201609]\n",
      " [-0.14852087  0.65156724  1.00418496  0.08507379 -1.10227468]\n",
      " [ 0.46083803  2.1163459  -0.14011513 -1.58884785 -0.45910681]\n",
      " [ 2.6048892  -0.09423512 -0.11662292  0.0252605  -0.71037788]\n",
      " [ 0.0288019   0.83441799 -0.53690729 -1.3882469  -0.3020557 ]\n",
      " [-1.24357612  0.25758747 -1.61309433  0.73455007 -0.72245084]\n",
      " [-0.37756516 -0.45805078  0.1133063  -1.90467543 -0.24657055]\n",
      " [-0.16546976  0.25534737 -1.07835198 -2.45680993  1.626272  ]\n",
      " [ 1.07096738  1.15511194  0.18101838 -0.06528416  0.64415568]\n",
      " [-0.16182715  1.08120535  0.04014373  0.26721752 -2.46903203]\n",
      " [ 1.48265948  0.81891146 -0.60725075  0.30412188  0.27847971]\n",
      " [-1.16337157  0.15324193 -2.01262637  0.79856844  0.60891161]\n",
      " [ 0.81026231 -0.92922407  0.84251908  0.19337804 -1.96438297]\n",
      " [ 0.10086088 -0.02399643 -0.91170026 -0.46943138  0.03538482]\n",
      " [ 0.82990766  0.04456578  0.75246722  0.56845787  0.17340147]\n",
      " [-0.66415878 -0.12721969  0.33648734  1.29707097 -0.46472753]\n",
      " [-0.51618234  0.11388347 -1.75539899  1.06343757  0.75958199]\n",
      " [-1.19048768  1.27040426  0.72028309 -0.48701266 -1.2615007 ]\n",
      " [ 0.37922588 -0.51263312  1.00778243 -1.64573768 -0.38883182]\n",
      " [-0.67991034 -0.88816104 -0.85046124  0.17353938  1.95770703]\n",
      " [ 0.88557841 -1.43597956 -0.30165547 -0.88870285 -1.4388865 ]\n",
      " [ 0.95456542  0.09057541  2.02212327  0.83936632 -0.93486703]\n",
      " [ 0.81793087 -0.07050835  0.58969483 -0.37016564  0.05618883]\n",
      " [-0.4014569  -0.92127158  0.43635079 -1.56036351 -0.24712478]\n",
      " [-1.55420318  0.87945081  0.3717491  -1.28541788  1.75171418]\n",
      " [ 0.74531027 -0.99540605 -0.69159056  0.6762237  -1.25190486]\n",
      " [-0.30642127  1.41085902  0.91714089  0.60038988  0.49831543]\n",
      " [ 0.3305557  -1.07343215  0.94436896  0.77040498 -0.12406304]\n",
      " [ 0.01231386  0.53441126 -2.95309964 -1.32205022  2.13698104]] [[-0.40565037 -0.17678899  1.70549621]\n",
      " [-0.65514809 -0.49809338  0.61476619]\n",
      " [-2.26853889  1.40547705  0.16196461]\n",
      " [-0.74783559  1.65967347 -0.03341485]\n",
      " [-0.61745883  0.76497668  0.81493591]]\n",
      "Epochs: 3 acc: 71.16794908780304\n",
      "Epochs: 3 acc: 73.00902821213798\n",
      "Epochs: 3 acc: 74.64959777265739\n",
      "Epochs: 3 acc: 76.14405464571946\n",
      "Epochs: 3 acc: 77.51561852298437\n",
      "Epochs: 3 acc: 78.77593779395549\n",
      "Epochs: 3 acc: 79.93320689884358\n",
      "Epochs: 3 acc: 80.99500781141961\n",
      "Epochs: 3 acc: 81.96807107021417\n",
      "Epochs: 3 acc: 82.8567888835398\n",
      "Epochs: 3 acc: 83.66275004920196\n",
      "Epochs: 3 acc: 84.38656626185768\n",
      "Epochs: 3 acc: 85.03075252437156\n",
      "Epochs: 3 acc: 85.60125271201704\n",
      "Epochs: 3 acc: 86.10681341939517\n",
      "Epochs: 3 acc: 86.55731099111017\n",
      "Epochs: 3 acc: 86.96228502660564\n",
      "Epochs: 3 acc: 87.33013033382579\n",
      "Epochs: 3 acc: 87.66783825779008\n",
      "Epochs: 3 acc: 87.98104756866438\n",
      "Epochs: 3 acc: 88.27422432547277\n",
      "Epochs: 3 acc: 88.55087159859984\n",
      "Epochs: 3 acc: 88.81372482598651\n",
      "Epochs: 3 acc: 89.06491763480415\n",
      "Epochs: 3 acc: 89.30611621275737\n",
      "Epochs: 3 acc: 89.53862548130907\n",
      "Epochs: 3 acc: 89.76347178312439\n",
      "Epochs: 3 acc: 89.9814667222936\n",
      "Epochs: 3 acc: 90.19325618516687\n",
      "Epochs: 3 acc: 90.3993578472566\n",
      "Epochs: 3 acc: 90.60018980190986\n",
      "Epochs: 3 acc: 90.79609238022657\n",
      "Epochs: 3 acc: 90.98734477366376\n",
      "Epochs: 3 acc: 91.17417770874984\n",
      "Epochs: 3 acc: 91.35678314068065\n",
      "Epochs: 3 acc: 91.53532171301126\n",
      "Epochs: 3 acc: 91.70992855998675\n",
      "Epochs: 3 acc: 91.88071789454038\n",
      "Epochs: 3 acc: 92.04778671929498\n",
      "Epochs: 3 acc: 92.21121791290497\n",
      "Epochs: 3 acc: 92.37108287461426\n",
      "Epochs: 3 acc: 92.52744385256095\n",
      "Epochs: 3 acc: 92.6803560341752\n",
      "Epochs: 3 acc: 92.82986943915834\n",
      "Epochs: 3 acc: 92.97603062687104\n",
      "Epochs: 3 acc: 93.11888421061033\n",
      "Epochs: 3 acc: 93.25847416111537\n",
      "Epochs: 3 acc: 93.39484488003595\n",
      "Epochs: 3 acc: 93.52804202960627\n",
      "Epochs: 3 acc: 93.65811311527\n",
      "Epochs: 3 acc: 93.78510783095604\n",
      "Epochs: 3 acc: 93.90907818953107\n",
      "Epochs: 3 acc: 94.03007847147148\n",
      "Epochs: 3 acc: 94.14816503154434\n",
      "Epochs: 3 acc: 94.26339600567509\n",
      "Epochs: 3 acc: 94.37583095844815\n",
      "Epochs: 3 acc: 94.48553050669649\n",
      "Epochs: 3 acc: 94.59255594758598\n",
      "Epochs: 3 acc: 94.69696891173398\n",
      "Epochs: 3 acc: 94.79883105428614\n",
      "Epochs: 3 acc: 94.89820379026992\n",
      "Epochs: 3 acc: 94.99514807536431\n",
      "Epochs: 3 acc: 95.08972422958323\n",
      "Epochs: 3 acc: 95.18199179915231\n",
      "Epochs: 3 acc: 95.27200945081424\n",
      "Epochs: 3 acc: 95.35983489262563\n",
      "Epochs: 3 acc: 95.4455248157116\n",
      "Epochs: 3 acc: 95.52913485216902\n",
      "Epochs: 3 acc: 95.61071954516491\n",
      "Epochs: 3 acc: 95.69033232812615\n",
      "Epochs: 3 acc: 95.76802551068383\n",
      "Epochs: 3 acc: 95.84385026967817\n",
      "Epochs: 3 acc: 95.91785664403986\n",
      "Epochs: 3 acc: 95.99009353274666\n",
      "Epochs: 3 acc: 96.06060869532973\n",
      "Epochs: 3 acc: 96.1294487545901\n",
      "Epochs: 3 acc: 96.19665920130616\n",
      "Epochs: 3 acc: 96.26228440078329\n",
      "Epochs: 3 acc: 96.32636760113506\n",
      "Epochs: 3 acc: 96.38895094319989\n",
      "Epochs: 3 acc: 96.45007547200078\n",
      "Epochs: 3 acc: 96.5097811496511\n",
      "Epochs: 3 acc: 96.56810686960313\n",
      "Epochs: 3 acc: 96.62509047212858\n",
      "Epochs: 3 acc: 96.68076876091611\n",
      "Epochs: 3 acc: 96.73517752066608\n",
      "Epochs: 3 acc: 96.78835153556264\n",
      "Epochs: 3 acc: 96.840324608504\n",
      "Epochs: 3 acc: 96.8911295809741\n",
      "Epochs: 3 acc: 96.94079835344404\n",
      "Epochs: 3 acc: 96.9893619061964\n",
      "Epochs: 3 acc: 97.03685032047218\n",
      "Epochs: 3 acc: 97.08329279984724\n",
      "Epochs: 3 acc: 97.12871769175155\n",
      "Epochs: 3 acc: 97.1731525090527\n",
      "Epochs: 3 acc: 97.21662395163145\n",
      "Epochs: 3 acc: 97.25915792788477\n",
      "Epochs: 3 acc: 97.30077957609812\n",
      "Epochs: 3 acc: 97.3415132856352\n",
      "Epochs: 3 acc: 97.38138271789968\n"
     ]
    }
   ],
   "source": [
    "w1 = generate_wt(30,5)\n",
    "w2 = generate_wt(5,3)\n",
    "print(w1,w2)\n",
    "\n",
    "acc, loss, w1,w2 = train(x,y,w1,w2,0.1,100)"
   ]
  },
  {
   "cell_type": "code",
   "execution_count": 11,
   "id": "db5a93ea-c6d3-4010-a453-9c3b4dcce00b",
   "metadata": {},
   "outputs": [
    {
     "name": "stdout",
     "output_type": "stream",
     "text": [
      "image is of letter A\n"
     ]
    },
    {
     "data": {
      "image/png": "[encoded data removed]",
      "text/plain": [
       "<Figure size 640x480 with 1 Axes>"
      ]
     },
     "metadata": {},
     "output_type": "display_data"
    }
   ],
   "source": [
    "# Predict one sample\n",
    "predict(x[0], w1, w2)"
   ]
  },
  {
   "cell_type": "code",
   "execution_count": 12,
   "id": "ad349be5-80ae-40d8-a9f0-5fd459a789a5",
   "metadata": {},
   "outputs": [
    {
     "data": {
      "image/png": "[encoded data removed]",
      "text/plain": [
       "<Figure size 640x480 with 1 Axes>"
      ]
     },
     "metadata": {},
     "output_type": "display_data"
    }
   ],
   "source": [
    "import matplotlib.pyplot as plt1\n",
    "\n",
    "#plotting accuracy\n",
    "plt1.plot(acc)\n",
    "plt1.ylabel('Accuracy')\n",
    "plt1.xlabel('Epochs')\n",
    "plt1.show()"
   ]
  },
  {
   "cell_type": "code",
   "execution_count": 13,
   "id": "c519f94e-5b85-4585-8d7d-a6ffcad1e5e9",
   "metadata": {},
   "outputs": [
    {
     "data": {
      "image/png": "[encoded data removed]",
      "text/plain": [
       "<Figure size 640x480 with 1 Axes>"
      ]
     },
     "metadata": {},
     "output_type": "display_data"
    }
   ],
   "source": [
    "# plot loss\n",
    "plt1.plot(loss)\n",
    "plt1.ylabel('loss')\n",
    "plt1.xlabel('Epochs')\n",
    "plt1.show()"
   ]
  },
  {
   "cell_type": "code",
   "execution_count": 14,
   "id": "8dacdd38-d6f0-4359-9f10-08de8c3719f0",
   "metadata": {},
   "outputs": [
    {
     "name": "stdout",
     "output_type": "stream",
     "text": [
      "[[-5.20386802e-01  1.18981675e+00 -5.76165052e-01  7.34882496e-01\n",
      "   7.12207571e-01]\n",
      " [ 1.43674698e+00 -9.12045909e-01 -9.54360343e-01  3.28739750e-01\n",
      "  -1.18832371e+00]\n",
      " [-2.67817104e-01  6.54915825e-01  7.25784603e-01 -1.81497092e-02\n",
      "  -1.14295872e+00]\n",
      " [ 3.41541797e-01  2.11969449e+00 -4.18515493e-01 -1.69207135e+00\n",
      "  -4.99790852e-01]\n",
      " [ 2.66341869e+00 -2.32114778e-01 -2.57858573e-01  1.79931129e-01\n",
      "  -7.06685500e-01]\n",
      " [ 2.88019013e-02  8.34417986e-01 -5.36907289e-01 -1.38824690e+00\n",
      "  -3.02055700e-01]\n",
      " [-1.24357612e+00  2.57587469e-01 -1.61309433e+00  7.34550071e-01\n",
      "  -7.22450842e-01]\n",
      " [-4.96861394e-01 -4.54702186e-01 -1.65094061e-01 -2.00789893e+00\n",
      "  -2.87254595e-01]\n",
      " [-1.65469758e-01  2.55347369e-01 -1.07835198e+00 -2.45680993e+00\n",
      "   1.62627200e+00]\n",
      " [ 1.07096738e+00  1.15511194e+00  1.81018379e-01 -6.52841565e-02\n",
      "   6.44155675e-01]\n",
      " [-4.15294693e-01  1.03526606e+00 -2.93909306e-02  9.52344359e-01\n",
      "  -2.51349210e+00]\n",
      " [ 1.48265948e+00  8.18911459e-01 -6.07250748e-01  3.04121885e-01\n",
      "   2.78479713e-01]\n",
      " [-1.34119729e+00  2.94470171e-01 -2.14979108e+00  5.40674311e-01\n",
      "   5.64535192e-01]\n",
      " [ 6.90966080e-01 -9.25875477e-01  5.64118716e-01  9.01545390e-02\n",
      "  -2.00506702e+00]\n",
      " [-1.52606659e-01 -6.99357215e-02 -9.81234926e-01  2.15695457e-01\n",
      "  -9.07524525e-03]\n",
      " [ 5.76440118e-01 -1.37350968e-03  6.82932550e-01  1.25358470e+00\n",
      "   1.28941396e-01]\n",
      " [-9.17626321e-01 -1.73158982e-01  2.66952673e-01  1.98219780e+00\n",
      "  -5.09187598e-01]\n",
      " [-6.94008065e-01  2.55111708e-01 -1.89256370e+00  8.05543443e-01\n",
      "   7.15205565e-01]\n",
      " [-1.36831340e+00  1.41163250e+00  5.83118379e-01 -7.44906789e-01\n",
      "  -1.30587712e+00]\n",
      " [ 4.37755373e-01 -6.50512773e-01  8.66546783e-01 -1.49106705e+00\n",
      "  -3.85139445e-01]\n",
      " [-6.79910344e-01 -8.88161040e-01 -8.50461236e-01  1.73539376e-01\n",
      "   1.95770703e+00]\n",
      " [ 8.85578408e-01 -1.43597956e+00 -3.01655474e-01 -8.88702852e-01\n",
      "  -1.43888650e+00]\n",
      " [ 8.78923603e-01 -9.65921218e-02  2.08975332e+00  1.78238729e+00\n",
      "  -9.34950682e-01]\n",
      " [ 6.40105149e-01  7.07198947e-02  4.52530119e-01 -6.28059766e-01\n",
      "   1.18124052e-02]\n",
      " [-5.79282624e-01 -7.80043333e-01  2.99186076e-01 -1.81825764e+00\n",
      "  -2.91501205e-01]\n",
      " [-1.49567369e+00  7.41571156e-01  2.30513446e-01 -1.13074725e+00\n",
      "   1.75540656e+00]\n",
      " [ 8.03839762e-01 -1.13328571e+00 -8.32826205e-01  8.30894334e-01\n",
      "  -1.24821248e+00]\n",
      " [-2.47891772e-01  1.27297937e+00  7.75905243e-01  7.55060506e-01\n",
      "   5.02007808e-01]\n",
      " [ 3.89085196e-01 -1.21131181e+00  8.03133311e-01  9.25075609e-01\n",
      "  -1.20370663e-01]\n",
      " [-1.65511864e-01  6.75639506e-01 -3.09026436e+00 -1.57994435e+00\n",
      "   2.09260462e+00]] \n",
      " [[-1.19834374 -1.16680744  1.88749476]\n",
      " [ 1.88113443 -2.44251022 -2.09924454]\n",
      " [-3.08266514  0.79593212  0.03730965]\n",
      " [-0.85171206  3.36724169 -2.40926342]\n",
      " [-0.59354928  0.73198643  0.81263532]]\n"
     ]
    }
   ],
   "source": [
    "print(w1, \"\\n\" , w2)"
   ]
  },
  {
   "cell_type": "code",
   "execution_count": 15,
   "id": "1be1be51-c4e8-407e-b0fc-34f6b4973382",
   "metadata": {},
   "outputs": [
    {
     "name": "stdout",
     "output_type": "stream",
     "text": [
      "image is of letter B\n"
     ]
    },
    {
     "data": {
      "image/png": "[encoded data removed]",
      "text/plain": [
       "<Figure size 640x480 with 1 Axes>"
      ]
     },
     "metadata": {},
     "output_type": "display_data"
    }
   ],
   "source": [
    "# 0-a, 1-b , 2-c\n",
    "predict(x[1], w1,w2)"
   ]
  },
  {
   "cell_type": "code",
   "execution_count": 16,
   "id": "10c29131-67d8-461d-9017-ff10e22a25a8",
   "metadata": {},
   "outputs": [
    {
     "name": "stdout",
     "output_type": "stream",
     "text": [
      "image is of letter A\n"
     ]
    },
    {
     "data": {
      "image/png": "[encoded data removed]",
      "text/plain": [
       "<Figure size 640x480 with 1 Axes>"
      ]
     },
     "metadata": {},
     "output_type": "display_data"
    }
   ],
   "source": [
    "predict(x[0], w1,w2)"
   ]
  },
  {
   "cell_type": "code",
   "execution_count": 17,
   "id": "f216a274-364c-42c4-8ec0-a4a0eb9afb30",
   "metadata": {},
   "outputs": [
    {
     "name": "stdout",
     "output_type": "stream",
     "text": [
      "image is of letter C\n"
     ]
    },
    {
     "data": {
      "image/png": "[encoded data removed]",
      "text/plain": [
       "<Figure size 640x480 with 1 Axes>"
      ]
     },
     "metadata": {},
     "output_type": "display_data"
    }
   ],
   "source": [
    "predict(x[2], w1,w2)"
   ]
  },
  {
   "cell_type": "code",
   "execution_count": null,
   "id": "1fbf04b2-1bbc-499a-92d4-dea5a6f66988",
   "metadata": {},
   "outputs": [],
   "source": []
  }
 ],
 "metadata": {
  "kernelspec": {
   "display_name": "Python 3 (ipykernel)",
   "language": "python",
   "name": "python3"
  },
  "language_info": {
   "codemirror_mode": {
    "name": "ipython",
    "version": 3
   },
   "file_extension": ".py",
   "mimetype": "text/x-python",
   "name": "python",
   "nbconvert_exporter": "python",
   "pygments_lexer": "ipython3",
   "version": "3.11.9"
  }
 },
 "nbformat": 4,
 "nbformat_minor": 5
}
